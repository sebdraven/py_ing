{
 "cells": [
  {
   "cell_type": "code",
   "execution_count": 1,
   "id": "4bed7465-cdfe-4c6d-b289-c66155dba05a",
   "metadata": {},
   "outputs": [],
   "source": [
    "import requests"
   ]
  },
  {
   "cell_type": "code",
   "execution_count": 2,
   "id": "04f39d63-4da8-40b3-871c-9a7300218098",
   "metadata": {},
   "outputs": [
    {
     "name": "stdout",
     "output_type": "stream",
     "text": [
      "{'content-encoding': 'gzip', 'access-control-allow-origin': '*', 'content-type': 'application/json; charset=utf-8', 'vary': 'accept-encoding', 'date': 'Wed, 05 Feb 2025 08:49:44 GMT', 'via': '1.1 google', 'Alt-Svc': 'h3=\":443\"; ma=2592000,h3-29=\":443\"; ma=2592000', 'Transfer-Encoding': 'chunked'}\n",
      "b'{\"ip\":\"185.235.207.212\"}'\n",
      "Your IP is 185.235.207.212\n"
     ]
    }
   ],
   "source": [
    "url = \"https://jsonip.com/\"\n",
    "r=requests.get(url)\n",
    "if r.status_code == requests.codes.ok:\n",
    "    print(f'{r.headers}')\n",
    "    print(f'{r.content}')\n",
    "    res = r.json()\n",
    "    print(f'Your IP is {res[\"ip\"]}')"
   ]
  },
  {
   "cell_type": "code",
   "execution_count": null,
   "id": "4d22ad0a-7722-46a9-a550-f30a530a2390",
   "metadata": {},
   "outputs": [],
   "source": []
  }
 ],
 "metadata": {
  "kernelspec": {
   "display_name": "Python 3 (ipykernel)",
   "language": "python",
   "name": "python3"
  },
  "language_info": {
   "codemirror_mode": {
    "name": "ipython",
    "version": 3
   },
   "file_extension": ".py",
   "mimetype": "text/x-python",
   "name": "python",
   "nbconvert_exporter": "python",
   "pygments_lexer": "ipython3",
   "version": "3.12.0"
  }
 },
 "nbformat": 4,
 "nbformat_minor": 5
}
